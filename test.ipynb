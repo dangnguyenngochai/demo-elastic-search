{
 "cells": [
  {
   "cell_type": "code",
   "execution_count": 161,
   "metadata": {},
   "outputs": [
    {
     "name": "stderr",
     "output_type": "stream",
     "text": [
      "C:\\Users\\DangNNH2\\AppData\\Local\\Programs\\Python\\Python310\\lib\\site-packages\\elasticsearch\\_sync\\client\\__init__.py:375: SecurityWarning: Connecting to 'https://localhost:9200' using TLS with verify_certs=False is insecure\n",
      "  _transport = transport_class(\n"
     ]
    }
   ],
   "source": [
    "import indexing\n",
    "import pandas as pd\n",
    "from elasticsearch import Elasticsearch\n",
    "\n",
    "# referencing the other configurations working wiht python elasticsearch in the homepage\n",
    "USERNAME = 'elastic'\n",
    "PASSWORD = 'iYPaONvQayEjKL+GgSsl'\n",
    "\n",
    "es = Elasticsearch(\"https://localhost:9200\", \n",
    "                    verify_certs=False,                # disable verify TLS/SSL \n",
    "                    basic_auth=(USERNAME, PASSWORD))   # provide the credentials\n",
    "\n",
    "def load_sample_data_csv(data_file='data/for-elastic-search.csv', index_col=0, usecols=None):\n",
    "    if usecols:\n",
    "        df = pd.read_csv(data_file, index_col=index_col, usecols=usecols).reset_index()\n",
    "    else:\n",
    "        df = pd.read_csv(data_file, index_col=index_col)\n",
    "    return df\n",
    "\n",
    "def indexing_source(index_name, data_frame):      \n",
    "    def index_doc(doc: dict):\n",
    "        try:\n",
    "            _id = doc.pop(\"_id\")\n",
    "        except KeyError:\n",
    "            _id = None\n",
    "        finally:\n",
    "            es.index(index=index_name, id=_id, document=doc)\n",
    "\n",
    "    for idx in range(len(data_frame)):\n",
    "        row = data_frame.iloc[idx].to_dict()\n",
    "        print(row)\n",
    "        if idx%100:\n",
    "            print(\"indexing at\", idx)\n",
    "        index_doc(row)"
   ]
  },
  {
   "cell_type": "code",
   "execution_count": 162,
   "metadata": {},
   "outputs": [],
   "source": [
    "sample_cols = ['article_id', 'title', 'text']\n",
    "df = load_sample_data_csv(usecols=sample_cols)\n",
    "tmp = df.head(1)\n"
   ]
  },
  {
   "cell_type": "code",
   "execution_count": 163,
   "metadata": {},
   "outputs": [
    {
     "name": "stdout",
     "output_type": "stream",
     "text": [
      "{'_id': 1, 'title': 'Điều 1. Phạm vi áp dụng', 'text': 'Thông tư này hướng dẫn tuần tra, canh gác bảo vệ đê Điều trong mùa lũ đối với các tuyến đê sông được phân loại, phân cấp theo quy định tại Điều 4 của Luật Đê Điều.'}\n"
     ]
    },
    {
     "name": "stderr",
     "output_type": "stream",
     "text": [
      "C:\\Users\\DangNNH2\\AppData\\Local\\Programs\\Python\\Python310\\lib\\site-packages\\urllib3\\connectionpool.py:1043: InsecureRequestWarning: Unverified HTTPS request is being made to host 'localhost'. Adding certificate verification is strongly advised. See: https://urllib3.readthedocs.io/en/1.26.x/advanced-usage.html#ssl-warnings\n",
      "  warnings.warn(\n"
     ]
    },
    {
     "data": {
      "text/plain": [
       "Index(['_id', 'title', 'text'], dtype='object')"
      ]
     },
     "execution_count": 163,
     "metadata": {},
     "output_type": "execute_result"
    }
   ],
   "source": [
    "tmp = tmp.rename({'article_id': '_id'}, axis=1)\n",
    "# tmp = tmp.drop(columsn=['article_id'], axis=1)\n",
    "indexing_source(\"just-test\",tmp)"
   ]
  },
  {
   "cell_type": "code",
   "execution_count": null,
   "metadata": {},
   "outputs": [],
   "source": []
  }
 ],
 "metadata": {
  "interpreter": {
   "hash": "748d2bd67486b1caa2c5a4bd8a396ef14ef4236251c88814fc89de102d36ce5f"
  },
  "kernelspec": {
   "display_name": "Python 3.10.4 64-bit",
   "language": "python",
   "name": "python3"
  },
  "language_info": {
   "codemirror_mode": {
    "name": "ipython",
    "version": 3
   },
   "file_extension": ".py",
   "mimetype": "text/x-python",
   "name": "python",
   "nbconvert_exporter": "python",
   "pygments_lexer": "ipython3",
   "version": "3.10.4"
  },
  "orig_nbformat": 4
 },
 "nbformat": 4,
 "nbformat_minor": 2
}
